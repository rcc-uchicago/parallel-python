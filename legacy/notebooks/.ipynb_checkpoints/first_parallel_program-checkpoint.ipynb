{
 "cells": [
  {
   "cell_type": "code",
   "execution_count": 1,
   "id": "4a376b86",
   "metadata": {},
   "outputs": [],
   "source": [
    "import multiprocessing\n",
    "from multiprocessing import Pool\n",
    "from time import sleep"
   ]
  },
  {
   "cell_type": "code",
   "execution_count": 2,
   "id": "bba3fe0d",
   "metadata": {},
   "outputs": [
    {
     "name": "stdout",
     "output_type": "stream",
     "text": [
      "Architecture:        x86_64\r\n",
      "CPU op-mode(s):      32-bit, 64-bit\r\n",
      "Byte Order:          Little Endian\r\n",
      "CPU(s):              48\r\n",
      "On-line CPU(s) list: 0-47\r\n",
      "Thread(s) per core:  1\r\n",
      "Core(s) per socket:  24\r\n",
      "Socket(s):           2\r\n",
      "NUMA node(s):        2\r\n",
      "Vendor ID:           GenuineIntel\r\n",
      "CPU family:          6\r\n",
      "Model:               85\r\n",
      "Model name:          Intel(R) Xeon(R) Gold 6248R CPU @ 3.00GHz\r\n",
      "Stepping:            7\r\n",
      "CPU MHz:             3002.591\r\n",
      "CPU max MHz:         3000.0000\r\n",
      "CPU min MHz:         1200.0000\r\n",
      "BogoMIPS:            6000.00\r\n",
      "Virtualization:      VT-x\r\n",
      "L1d cache:           32K\r\n",
      "L1i cache:           32K\r\n",
      "L2 cache:            1024K\r\n",
      "L3 cache:            36608K\r\n",
      "NUMA node0 CPU(s):   0-23\r\n",
      "NUMA node1 CPU(s):   24-47\r\n",
      "Flags:               fpu vme de pse tsc msr pae mce cx8 apic sep mtrr pge mca cmov pat pse36 clflush dts acpi mmx fxsr sse sse2 ss ht tm pbe syscall nx pdpe1gb rdtscp lm constant_tsc art arch_perfmon pebs bts rep_good nopl xtopology nonstop_tsc cpuid aperfmperf pni pclmulqdq dtes64 ds_cpl vmx smx est tm2 ssse3 sdbg fma cx16 xtpr pdcm pcid dca sse4_1 sse4_2 x2apic movbe popcnt tsc_deadline_timer aes xsave avx f16c rdrand lahf_lm abm 3dnowprefetch cpuid_fault epb cat_l3 cdp_l3 invpcid_single intel_ppin ssbd mba ibrs ibpb stibp ibrs_enhanced tpr_shadow vnmi flexpriority ept vpid ept_ad fsgsbase tsc_adjust bmi1 hle avx2 smep bmi2 erms invpcid cqm mpx rdt_a avx512f avx512dq rdseed adx smap clflushopt clwb intel_pt avx512cd avx512bw avx512vl xsaveopt xsavec xgetbv1 xsaves cqm_llc cqm_occup_llc cqm_mbm_total cqm_mbm_local dtherm arat pln pts hwp hwp_act_window hwp_epp hwp_pkg_req pku ospke avx512_vnni md_clear flush_l1d arch_capabilities\r\n"
     ]
    }
   ],
   "source": [
    "!lscpu"
   ]
  },
  {
   "cell_type": "code",
   "execution_count": 3,
   "id": "646a5a18",
   "metadata": {},
   "outputs": [
    {
     "data": {
      "text/plain": [
       "48"
      ]
     },
     "execution_count": 3,
     "metadata": {},
     "output_type": "execute_result"
    }
   ],
   "source": [
    "multiprocessing.cpu_count()"
   ]
  },
  {
   "cell_type": "code",
   "execution_count": 4,
   "id": "2ccc5731",
   "metadata": {},
   "outputs": [],
   "source": [
    "# A function that take 1 second to run (prints the process name and sleeps)\n",
    "def f(i):\n",
    "    name = multiprocessing.current_process().name\n",
    "    print(f'{name} is running\\n')\n",
    "    sleep(1)"
   ]
  },
  {
   "cell_type": "code",
   "execution_count": 9,
   "id": "0adc2eef",
   "metadata": {},
   "outputs": [
    {
     "name": "stdout",
     "output_type": "stream",
     "text": [
      "ForkPoolWorker-21 is running\n",
      "\n",
      "ForkPoolWorker-22 is running\n",
      "\n",
      "ForkPoolWorker-23 is running\n",
      "\n",
      "ForkPoolWorker-24 is running\n",
      "\n",
      "ForkPoolWorker-25 is running\n",
      "\n",
      "ForkPoolWorker-21 is running\n",
      "\n",
      "ForkPoolWorker-22 is running\n",
      "\n",
      "ForkPoolWorker-23 is running\n",
      "\n",
      "ForkPoolWorker-24 is running\n",
      "\n",
      "ForkPoolWorker-25 is running\n",
      "\n"
     ]
    }
   ],
   "source": [
    "# Create a Pool of 5 processors and apply the function (runs in 10 seconds)\n",
    "with Pool(5) as pool:\n",
    "    for i in range(10):\n",
    "        pool.apply(f, (i,))"
   ]
  },
  {
   "cell_type": "code",
   "execution_count": 8,
   "id": "14e30c52",
   "metadata": {},
   "outputs": [
    {
     "name": "stdout",
     "output_type": "stream",
     "text": [
      "ForkPoolWorker-16 is running\n",
      "ForkPoolWorker-17 is running\n",
      "ForkPoolWorker-18 is running\n",
      "ForkPoolWorker-19 is running\n",
      "ForkPoolWorker-20 is running\n",
      "\n",
      "\n",
      "\n",
      "\n",
      "\n",
      "ForkPoolWorker-17 is running\n",
      "ForkPoolWorker-18 is running\n",
      "ForkPoolWorker-19 is running\n",
      "ForkPoolWorker-16 is running\n",
      "ForkPoolWorker-20 is running\n",
      "\n",
      "\n",
      "\n",
      "\n",
      "\n"
     ]
    }
   ],
   "source": [
    "# Instead, we can use map to achieve parallel execution (runs in 2 seconds)\n",
    "with Pool(5) as pool:\n",
    "    pool.map(f, range(10))"
   ]
  },
  {
   "cell_type": "markdown",
   "id": "44f1c02d",
   "metadata": {},
   "source": [
    "## Threading"
   ]
  },
  {
   "cell_type": "code",
   "execution_count": 12,
   "id": "947bea65",
   "metadata": {},
   "outputs": [],
   "source": [
    "import threading # this is Python's main threading library\n",
    "from multiprocessing.pool import ThreadPool # this is a pool of theads"
   ]
  },
  {
   "cell_type": "code",
   "execution_count": 14,
   "id": "c7c86347",
   "metadata": {},
   "outputs": [
    {
     "name": "stdout",
     "output_type": "stream",
     "text": [
      "MainProcess is running\n",
      "\n",
      "MainProcess is running\n",
      "\n",
      "MainProcess is running\n",
      "\n",
      "MainProcess is running\n",
      "\n",
      "MainProcess is running\n",
      "\n",
      "MainProcess is running\n",
      "\n",
      "MainProcess is running\n",
      "\n",
      "MainProcess is running\n",
      "\n",
      "MainProcess is running\n",
      "\n",
      "MainProcess is running\n",
      "\n"
     ]
    }
   ],
   "source": [
    "# will run in 2 seconds\n",
    "with ThreadPool(5) as pool:\n",
    "    pool.map(f, range(10))"
   ]
  },
  {
   "cell_type": "markdown",
   "id": "d627b61c",
   "metadata": {},
   "source": [
    "Did we actually get a speedup with Threads? Not really... the function is only sleeping. Let's consider a function doing actual work"
   ]
  },
  {
   "cell_type": "code",
   "execution_count": 35,
   "id": "90f458b8",
   "metadata": {},
   "outputs": [],
   "source": [
    "from time import time\n",
    "\n",
    "def real_work(i):\n",
    "    sum(range(10000000))"
   ]
  },
  {
   "cell_type": "code",
   "execution_count": 43,
   "id": "eed02aa7",
   "metadata": {},
   "outputs": [
    {
     "name": "stdout",
     "output_type": "stream",
     "text": [
      "1.589 s\n"
     ]
    }
   ],
   "source": [
    "t0 = time()\n",
    "with ThreadPool(5) as pool:\n",
    "    pool.map(real_work, range(10))\n",
    "tf = time()\n",
    "\n",
    "print(f'{tf-t0:.3f} s')"
   ]
  },
  {
   "cell_type": "code",
   "execution_count": 44,
   "id": "98c06fdc",
   "metadata": {},
   "outputs": [
    {
     "name": "stdout",
     "output_type": "stream",
     "text": [
      "0.342 s\n"
     ]
    }
   ],
   "source": [
    "t0 = time()\n",
    "with Pool(5) as pool:\n",
    "    pool.map(real_work, range(10))\n",
    "tf = time()\n",
    "\n",
    "print(f'{tf-t0:.3f} s')"
   ]
  },
  {
   "cell_type": "markdown",
   "id": "6b1fd2a9",
   "metadata": {},
   "source": [
    "Pool is 5 times faster than ThreadPool, so ThreadPool does not actually achieve speedup with more workers.\n",
    "\n",
    "The TheadPool is limited by Python's Global Interpeter Lock (GIL), whereas Pool uses multiprocessing to achieve a 5X speedup with 5 processors."
   ]
  },
  {
   "cell_type": "code",
   "execution_count": null,
   "id": "08a0676c",
   "metadata": {},
   "outputs": [],
   "source": []
  }
 ],
 "metadata": {
  "kernelspec": {
   "display_name": "Python 3 (ipykernel)",
   "language": "python",
   "name": "python3"
  },
  "language_info": {
   "codemirror_mode": {
    "name": "ipython",
    "version": 3
   },
   "file_extension": ".py",
   "mimetype": "text/x-python",
   "name": "python",
   "nbconvert_exporter": "python",
   "pygments_lexer": "ipython3",
   "version": "3.7.11"
  }
 },
 "nbformat": 4,
 "nbformat_minor": 5
}
