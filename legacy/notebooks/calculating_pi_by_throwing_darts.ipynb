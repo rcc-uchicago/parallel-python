{
 "cells": [
  {
   "cell_type": "markdown",
   "id": "06bc148c",
   "metadata": {},
   "source": [
    "# Calcuting Pi by Throwing Darts (serial)"
   ]
  },
  {
   "cell_type": "code",
   "execution_count": 1,
   "id": "a073dfc1",
   "metadata": {},
   "outputs": [],
   "source": [
    "# We're going to disable NumPy's low-level multithreading capabilties\n",
    "# NumPy is a C library that uses OpenMP to get around Python's GIL\n",
    "# By setting these OS variables to 1, we have no multithreading, and will parallelize using python multiprocessing\n",
    "import os\n",
    "os.environ[\"MKL_NUM_THREADS\"] = \"1\"\n",
    "os.environ[\"OMP_NUM_THREADS\"] = \"1\"\n",
    "os.environ[\"NUMEXPR_NUM_THREADS\"] = \"1\"\n",
    "import numpy as np"
   ]
  },
  {
   "cell_type": "code",
   "execution_count": 2,
   "id": "3f9798d7",
   "metadata": {},
   "outputs": [],
   "source": [
    "def calculate_pi(darts):\n",
    "    \"\"\"approximate pi by thowing darts at a board\"\"\"\n",
    "    x = np.random.uniform(-1, 1, darts)\n",
    "    y = np.random.uniform(-1, 1, darts)\n",
    "    r_sq = x**2 + y**2\n",
    "    return 4*np.sum(r_sq<1)/darts"
   ]
  },
  {
   "cell_type": "code",
   "execution_count": 3,
   "id": "e26f0655",
   "metadata": {},
   "outputs": [
    {
     "data": {
      "text/plain": [
       "3.1476"
      ]
     },
     "execution_count": 3,
     "metadata": {},
     "output_type": "execute_result"
    }
   ],
   "source": [
    "calculate_pi(10_000)"
   ]
  },
  {
   "cell_type": "code",
   "execution_count": 4,
   "id": "d996e9e7",
   "metadata": {},
   "outputs": [
    {
     "name": "stdout",
     "output_type": "stream",
     "text": [
      "214 µs ± 59.9 ns per loop (mean ± std. dev. of 7 runs, 10000 loops each)\n"
     ]
    }
   ],
   "source": [
    "# lets' time throwing 10,000 darts\n",
    "%timeit calculate_pi(10_000)"
   ]
  },
  {
   "cell_type": "markdown",
   "id": "e1532a15",
   "metadata": {},
   "source": [
    "# Parallelization with multiprocessing.Process"
   ]
  },
  {
   "cell_type": "code",
   "execution_count": 5,
   "id": "ebf5cd42",
   "metadata": {},
   "outputs": [],
   "source": [
    "import multiprocessing\n",
    "from multiprocessing import Process"
   ]
  },
  {
   "cell_type": "code",
   "execution_count": 8,
   "id": "28f0db73",
   "metadata": {},
   "outputs": [],
   "source": [
    "def calculate_pi_serial(darts, queue):\n",
    "    \"\"\"calculate pi and store it in a queue (serial function)\"\"\"\n",
    "    np.random.seed() # we need to set the random seed... see what happens if you comment this line out\n",
    "    x = np.random.uniform(-1, 1, darts)\n",
    "    y = np.random.uniform(-1, 1, darts)\n",
    "    r_sq = x**2 + y**2\n",
    "    queue.put(4*np.sum(r_sq<1)/darts)  # instead of returning, we will put the result in \"queue\"\n",
    "\n",
    "def calculate_pi_parallel(darts_per_process, Ncores):\n",
    "    \"\"\"use the serial function per-process; launch multiple processes\"\"\"\n",
    "    processes = []  # the processes to be running in parallel\n",
    "    queue = [] # each process has a queue that will store its result\n",
    "\n",
    "    for i in range(Ncores):\n",
    "        q = multiprocessing.Queue()\n",
    "        p = Process(target=calculate_pi_serial, args=(darts_per_process,q))\n",
    "        p.start()  # the process will start running in the background\n",
    "        processes.append(p)\n",
    "        queue.append(q)\n",
    "    for p in processes:\n",
    "        p.join()  # we wait for each process to finish\n",
    "    \n",
    "    # finally, we average the results from all processes\n",
    "    total = 0\n",
    "    for q in queue:\n",
    "        total += q.get()\n",
    "    return np.sum(total)/Ncores"
   ]
  },
  {
   "cell_type": "code",
   "execution_count": 9,
   "id": "b33764c7",
   "metadata": {},
   "outputs": [
    {
     "data": {
      "text/plain": [
       "3.0984"
      ]
     },
     "execution_count": 9,
     "metadata": {},
     "output_type": "execute_result"
    }
   ],
   "source": [
    "calculate_pi_parallel(2500, 4)"
   ]
  },
  {
   "cell_type": "code",
   "execution_count": 10,
   "id": "b5854ed2",
   "metadata": {},
   "outputs": [
    {
     "name": "stdout",
     "output_type": "stream",
     "text": [
      "12.8 ms ± 26.9 µs per loop (mean ± std. dev. of 7 runs, 100 loops each)\n"
     ]
    }
   ],
   "source": [
    "# let's time running 10,000 darts (4 processes, 2,500 darts each)\n",
    "%timeit calculate_pi_parallel(2500, 4)"
   ]
  },
  {
   "cell_type": "markdown",
   "id": "385eb42f",
   "metadata": {},
   "source": [
    "This is much slower than the serial version... why is that?"
   ]
  },
  {
   "cell_type": "markdown",
   "id": "a51395a8",
   "metadata": {},
   "source": [
    "# Parallelizing with multiprocessing.Pool"
   ]
  },
  {
   "cell_type": "markdown",
   "id": "6b1fb891",
   "metadata": {},
   "source": [
    "Let's simplify the code a bit by using a Pool instead of a Process."
   ]
  },
  {
   "cell_type": "code",
   "execution_count": 13,
   "id": "0aa7f738",
   "metadata": {},
   "outputs": [],
   "source": [
    "from multiprocessing import Pool"
   ]
  },
  {
   "cell_type": "code",
   "execution_count": 14,
   "id": "b75865f6",
   "metadata": {},
   "outputs": [],
   "source": [
    "def calculate_pi_serial(darts):\n",
    "    \"\"\"calculate pi and store it in a queue (serial function)\"\"\"\n",
    "    np.random.seed()\n",
    "    x = np.random.uniform(-1, 1, darts)\n",
    "    y = np.random.uniform(-1, 1, darts)\n",
    "    r_sq = x**2 + y**2\n",
    "    return 4*np.sum(r_sq<1)/darts\n",
    "\n",
    "def calculate_pi_parallel(darts_per_process, Ncores):\n",
    "    \"\"\"use the serial function per-process; launch multiple processes\"\"\"\n",
    "    with Pool(Ncores) as pool:\n",
    "        results = pool.map(calculate_pi_serial, [darts_per_process for i in range(Ncores)])\n",
    "\n",
    "    return np.sum(results)/Ncores"
   ]
  },
  {
   "cell_type": "code",
   "execution_count": 15,
   "id": "28f22b0e",
   "metadata": {},
   "outputs": [
    {
     "data": {
      "text/plain": [
       "3.1612"
      ]
     },
     "execution_count": 15,
     "metadata": {},
     "output_type": "execute_result"
    }
   ],
   "source": [
    "calculate_pi_parallel(2500, 4)"
   ]
  },
  {
   "cell_type": "code",
   "execution_count": 17,
   "id": "7ece9f8f",
   "metadata": {},
   "outputs": [
    {
     "name": "stdout",
     "output_type": "stream",
     "text": [
      "12.5 ms ± 13 µs per loop (mean ± std. dev. of 7 runs, 100 loops each)\n"
     ]
    }
   ],
   "source": [
    "%timeit calculate_pi_parallel(2500, 4)"
   ]
  },
  {
   "cell_type": "markdown",
   "id": "3e4b0317",
   "metadata": {},
   "source": [
    "The Pool code is easier to write then the Process code, but they do effectively the same thing. Performance is still worse than serial."
   ]
  },
  {
   "cell_type": "markdown",
   "id": "9eb5d162",
   "metadata": {},
   "source": [
    "# Parallelization won't work well unless the problem is sufficiently difficult"
   ]
  },
  {
   "cell_type": "code",
   "execution_count": 24,
   "id": "518328c2",
   "metadata": {},
   "outputs": [],
   "source": [
    "N = 20_000_000"
   ]
  },
  {
   "cell_type": "code",
   "execution_count": 25,
   "id": "5faec1f5",
   "metadata": {},
   "outputs": [
    {
     "name": "stdout",
     "output_type": "stream",
     "text": [
      "575 ms ± 1.04 ms per loop (mean ± std. dev. of 7 runs, 1 loop each)\n"
     ]
    }
   ],
   "source": [
    "# it takes about 575 ms to throw 20 mil darts\n",
    "%timeit calculate_pi_serial(N)"
   ]
  },
  {
   "cell_type": "code",
   "execution_count": 26,
   "id": "8862fec0",
   "metadata": {},
   "outputs": [
    {
     "name": "stdout",
     "output_type": "stream",
     "text": [
      "155 ms ± 72.6 µs per loop (mean ± std. dev. of 7 runs, 10 loops each)\n"
     ]
    }
   ],
   "source": [
    "# with 4 processors, you can throw 20 mil darts (5 mil each), in 155 ms (~3.7 times faster)\n",
    "%timeit calculate_pi_parallel(N//4, 4)"
   ]
  },
  {
   "cell_type": "code",
   "execution_count": 27,
   "id": "630cde28",
   "metadata": {},
   "outputs": [
    {
     "name": "stdout",
     "output_type": "stream",
     "text": [
      "138 ms ± 694 µs per loop (mean ± std. dev. of 7 runs, 10 loops each)\n"
     ]
    }
   ],
   "source": [
    "# with 8 processors, it taks ~138 ms, which is only ~4.2 times faster than serial.\n",
    "# we would need to throw many more darts to get closer to 8X speedup with 8 processors\n",
    "# try increasing N further\n",
    "%timeit calculate_pi_parallel(N//8, 8)"
   ]
  },
  {
   "cell_type": "markdown",
   "id": "e94dfdaa",
   "metadata": {},
   "source": [
    "When we threw 10,000 darts, it only took 200 micro-seconds in serial. It's very difficult to parallelize something that is already so fast in serial.\n",
    "\n",
    "But with 20 million darts, the serial version takes over a second. Parallelization is very effective here"
   ]
  },
  {
   "cell_type": "markdown",
   "id": "5740e393",
   "metadata": {},
   "source": [
    "# Scaling: weak vs strong"
   ]
  },
  {
   "cell_type": "code",
   "execution_count": 28,
   "id": "59920ad7",
   "metadata": {},
   "outputs": [],
   "source": [
    "from timeit import timeit\n",
    "import matplotlib.pyplot as plt"
   ]
  },
  {
   "cell_type": "code",
   "execution_count": 29,
   "id": "b0961d57",
   "metadata": {},
   "outputs": [],
   "source": [
    "Ncores = range(1,9)\n",
    "times = np.array([timeit(lambda: calculate_pi_parallel(N//Nc, Nc), number=1) for Nc in Ncores])"
   ]
  },
  {
   "cell_type": "code",
   "execution_count": 30,
   "id": "fd6b7b10",
   "metadata": {},
   "outputs": [
    {
     "data": {
      "text/plain": [
       "[<matplotlib.lines.Line2D at 0x7f2a5d686ee0>]"
      ]
     },
     "execution_count": 30,
     "metadata": {},
     "output_type": "execute_result"
    },
    {
     "data": {
      "image/png": "[encoded data removed]",
      "text/plain": [
       "<Figure size 432x288 with 1 Axes>"
      ]
     },
     "metadata": {
      "needs_background": "light"
     },
     "output_type": "display_data"
    }
   ],
   "source": [
    "plt.plot(Ncores, times)"
   ]
  },
  {
   "cell_type": "code",
   "execution_count": 31,
   "id": "3c914a76",
   "metadata": {},
   "outputs": [
    {
     "data": {
      "text/plain": [
       "<matplotlib.legend.Legend at 0x7f2a5d52eeb0>"
      ]
     },
     "execution_count": 31,
     "metadata": {},
     "output_type": "execute_result"
    },
    {
     "data": {
      "image/png": "[encoded data removed]",
      "text/plain": [
       "<Figure size 432x288 with 1 Axes>"
      ]
     },
     "metadata": {
      "needs_background": "light"
     },
     "output_type": "display_data"
    }
   ],
   "source": [
    "speedup = times[0]/times\n",
    "plt.plot(Ncores, speedup, 'o-', label='actual')\n",
    "plt.plot(Ncores, Ncores, 'o-', color='k', label='theoretical')\n",
    "plt.title('Computing pi by throwing 20 million darts in parallel')\n",
    "plt.gca().set(xlabel='Ncores', ylabel='speedup', xticks=Ncores, yticks=Ncores);\n",
    "plt.grid()\n",
    "plt.legend()"
   ]
  },
  {
   "cell_type": "code",
   "execution_count": 32,
   "id": "69eec98f",
   "metadata": {},
   "outputs": [],
   "source": [
    "N = 1_000_000\n",
    "times = np.array([timeit(lambda: calculate_pi_parallel(N//Nc, Nc), number=1) for Nc in Ncores])"
   ]
  },
  {
   "cell_type": "code",
   "execution_count": 33,
   "id": "5d5095df",
   "metadata": {},
   "outputs": [
    {
     "data": {
      "image/png": "[encoded data removed]",
      "text/plain": [
       "<Figure size 432x288 with 1 Axes>"
      ]
     },
     "metadata": {
      "needs_background": "light"
     },
     "output_type": "display_data"
    }
   ],
   "source": [
    "speedup = times[0]/times\n",
    "plt.plot(Ncores, speedup, 'o-', label='actual')\n",
    "plt.title('Computing pi by throwing 1 million darts in parallel')\n",
    "plt.gca().set(xlabel='Ncores', ylabel='speedup', xticks=Ncores);\n",
    "plt.grid()"
   ]
  },
  {
   "cell_type": "code",
   "execution_count": 34,
   "id": "d157ee40",
   "metadata": {},
   "outputs": [],
   "source": [
    "N = 250_000_000\n",
    "times = np.array([timeit(lambda: calculate_pi_parallel(N//Nc, Nc), number=1) for Nc in Ncores])"
   ]
  },
  {
   "cell_type": "code",
   "execution_count": 35,
   "id": "61d8ac8b",
   "metadata": {},
   "outputs": [
    {
     "data": {
      "text/plain": [
       "<matplotlib.legend.Legend at 0x7f2a5d46c6a0>"
      ]
     },
     "execution_count": 35,
     "metadata": {},
     "output_type": "execute_result"
    },
    {
     "data": {
      "image/png": "[encoded data removed]",
      "text/plain": [
       "<Figure size 432x288 with 1 Axes>"
      ]
     },
     "metadata": {
      "needs_background": "light"
     },
     "output_type": "display_data"
    }
   ],
   "source": [
    "speedup = times[0]/times\n",
    "plt.plot(Ncores, speedup, 'o-', label='actual')\n",
    "plt.plot(Ncores, Ncores, 'o-', color='k', label='theoretical')\n",
    "plt.title('Computing pi by throwing 250 million darts in parallel')\n",
    "plt.gca().set(xlabel='Ncores', ylabel='speedup', xticks=Ncores);\n",
    "plt.grid()\n",
    "plt.legend()"
   ]
  },
  {
   "cell_type": "code",
   "execution_count": null,
   "id": "120eb57d",
   "metadata": {},
   "outputs": [],
   "source": []
  }
 ],
 "metadata": {
  "kernelspec": {
   "display_name": "Python 3",
   "language": "python",
   "name": "python3"
  },
  "language_info": {
   "codemirror_mode": {
    "name": "ipython",
    "version": 3
   },
   "file_extension": ".py",
   "mimetype": "text/x-python",
   "name": "python",
   "nbconvert_exporter": "python",
   "pygments_lexer": "ipython3",
   "version": "3.9.7"
  }
 },
 "nbformat": 4,
 "nbformat_minor": 5
}
